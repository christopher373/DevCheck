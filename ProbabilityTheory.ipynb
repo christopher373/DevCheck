{
 "cells": [
  {
   "cell_type": "markdown",
   "metadata": {},
   "source": [
    "<center><h2>Measure Theory</h2></center>"
   ]
  },
  {
   "cell_type": "markdown",
   "metadata": {},
   "source": [
    "### 1.1 Probability Spaces\n",
    "\n",
    "\n",
    "<span style=\"color:#003d7a;font-weight:bolder;\">Probability Space:</span> A triple $(\\Omega,\\mathcal{F},P)$ where $\\Omega\\in\\mathcal{S}$, $P\\ :\\ \\mathcal{F}\\rightarrow[0,1]$, and $\\mathcal{F}$ is a $\\sigma$-field on $\\Omega$, i.e., a (nonempty) collection of subsets of $\\Omega$ that satisfy\n",
    "\n",
    "1. if $A\\in\\mathcal{F}$, then $A^C\\in\\mathcal{F}$, and\n",
    "2. if $A_i\\in\\mathcal{F}$ is a countable sequence of sets, then $\\cup_iA_i\\in\\mathcal{F}$"
   ]
  },
  {
   "cell_type": "markdown",
   "metadata": {},
   "source": [
    "<span style=\"color:#003d7a;font-weight:bolder;\"><span></span>$\\sigma$-field/$\\sigma$-algebra:</span> A $\\sigma$-algebra on a set $X$ is a nonempty collection $\\Sigma$ of susbsets of $X$ closed under complement, countable unions, and countable intersections. "
   ]
  },
  {
   "cell_type": "markdown",
   "metadata": {},
   "source": [
    "<span style=\"color:#003d7a;font-weight:bolder;\">Measure Space:</span> A space on which we can put a measure, $(\\Omega,\\mathcal{F})$."
   ]
  },
  {
   "cell_type": "markdown",
   "metadata": {},
   "source": [
    "<span style=\"color:#003d7a;font-weight:bolder;\">Measure:</span> A nonnegative countably additive set function; that is, a function $\\mu\\ :\\ \\mathcal{F}\\rightarrow\\mathbb{R}$ with\n",
    "\n",
    "1. $\\mu(A)\\ge\\mu(\\emptyset)=0$ for all $A\\in\\mathcal{F}$, and\n",
    "2. if $A_i\\in\\mathcal{F}$ is a countable sequence of disjoint sets, then\n",
    "\n",
    "$$\\mu(\\cup_iA_i)=\\sum_{i}\\mu(A_i)$$\n",
    "\n",
    "If $\\mu(\\Omega)=1$, we call $\\mu$ a **probability measure**."
   ]
  },
  {
   "cell_type": "code",
   "execution_count": null,
   "metadata": {},
   "outputs": [],
   "source": [
    "from dataclasses import dataclass\n",
    "from typing import Callable\n",
    "\n",
    "@dataclass\n",
    "class MeasureSpace:\n",
    "    Omega: set\n",
    "    F: set\n",
    "    \n",
    "@dataclass\n",
    "class Measure:\n",
    "    mu: Callable\n",
    "\n",
    "\n",
    "@dataclass\n",
    "class ProbabilitySpace(MeasureSpace):\n",
    "    P: Measure"
   ]
  },
  {
   "cell_type": "markdown",
   "metadata": {},
   "source": [
    "<span style=\"color:#7a0200;font-weight:bolder;\">Theorem 1.1.1</span> Some consequences of the definition of a measure. Let $\\mu$ be a measure on $(\\Omega,\\mathcal{F})$\n",
    "\n",
    "1. **monotonicity.** If $A\\subset B$, then $\\mu(A)\\le\\mu(B)$.\n",
    "2. **subadditivity.** If $A\\subset\\cup_{m=1}^{\\infty}A_m$, then $\\mu(A)\\le\\sum_{m=1}^{\\infty}\\mu(A_m)$\n",
    "3. **continuity from below.** If $A_i\\uparrow A$ (i.e., $A_1\\subset A_2\\subset\\ldots$ and $\\cup_iA_i=A$), then $\\mu(A_i)\\uparrow\\mu(A)$.\n",
    "4. **continuity from above.** If $A_i\\downarrow A$ (i.e., $A_1\\supset A_2\\supset\\ldots$ and $\\cap_iA_i=A$), with $\\mu(A_i)<\\infty$, then $\\mu(A_i)\\downarrow\\mu(A)$\n",
    "\n",
    "&emsp;&emsp;&emsp;&emsp;<span style=\"border-bottom:1px solid #7a0200\">Proof.</span>\n",
    "\n",
    "1. Let $B-A=B\\cap A^C$ be the difference of two sets. Using $+$ to denote disjoint union, $B=A+(B-A)$ so\n",
    "\n",
    "$$\\mu(B)=\\mu(A)+\\mu(B)+\\mu(B-A)\\ge\\mu(A)$$\n",
    "\n",
    "2. Let $A_n'=A_n\\cap A$, $B_1=A_1'$ for $n>1$, $B_n=A_n'-\\cup_{m=1}^{n-1}A_m'$. SInce the $B_n$ are disjoint and have union $A$, we have using 2. of the definition of a measure, $B_m\\subset A_m$, and 1. of this theorem\n",
    "\n",
    "$$\\mu(A)=\\sum_{m=1}^{\\infty}\\mu(B_m)\\le\\sum_{m=1}^{\\infty}\\mu(A_m)$$\n",
    "\n",
    "3. Let $B_n=A_n-A_{n-1}$. Then the $B_n$ are disjoint and have $\\cup_{m=1}^{\\infty}B_m=A$, $\\cup_{m=1}^nB_m=A_n$ so\n",
    "\n",
    "$$\\mu(A)=\\sum_{m=1}^{\\infty}\\mu(B_m)=\\lim_{n\\rightarrow\\infty}\\sum_{m=1}^n\\mu(B_m)=\\lim_{n\\rightarrow\\infty}\\mu(A_n)$$\n",
    "\n",
    "4. $A_1-A_n\\uparrow A_1-A$ so 3. implies $\\mu(A_1-A_n)\\uparrow\\mu(A_1-A-n)$. Since $A_1\\supset A$, we have $\\mu(A_1-A)=\\mu(A_1)-\\mu(A)$ and it follows that $\\mu(A_n)\\downarrow\\mu(A)$."
   ]
  },
  {
   "cell_type": "markdown",
   "metadata": {},
   "source": [
    "<span style=\"color:#277a00;font-weight:bolder;\">Example 1.1.2 (Discrete Probability Spaces):</span> Let $\\Omega$ be a countable set and $\\mathcal{F}=\\mathcal{P}(\\Omega)$. Let\n",
    "\n",
    "$$P(A)=\\sum_{\\omega\\in A}p(\\omega),\\ \\text{where }p(\\omega)\\ge0\\text{ and }\\sum_{\\omega\\in\\Omega}p(\\omega)=1$$"
   ]
  },
  {
   "cell_type": "markdown",
   "metadata": {},
   "source": [
    "<span style=\"color:#003d7a;font-weight:bolder;\"><span></span>Generated $\\sigma$-field:</span> It follows easily from the definition: If $\\mathcal{F}_i$, $i\\in I$ are $\\sigma$-fields, then $\\cap_{i\\in I}\\mathcal{F}_i$ is also a $\\sigma$-field. From this, it follows that if we are given a set $\\Omega$ and a collection $\\mathcal{A}$ of subsets of $\\Omega$, then there is a smallest $\\sigma$-field containing $\\mathcal{A}$, called the $\\sigma$-field generated by $\\mathcal{A}$."
   ]
  },
  {
   "cell_type": "markdown",
   "metadata": {},
   "source": [
    "<span style=\"color:#003d7a;font-weight:bolder;\">Borel sets:</span> The smallest $\\sigma$-field containing the open sets over the real numbers, labeled $\\mathcal{R}^d$."
   ]
  },
  {
   "cell_type": "markdown",
   "metadata": {},
   "source": [
    "<span style=\"color:#277a00;font-weight:bolder;\">Example 1.1.3: (Measures on the real line):</span> Measures on $(\\mathbb{R},\\mathcal{R})$ are defined by giving a **Stieltjes measure function** with the following properties\n",
    "\n",
    "1. $F$ is nondecreasing.\n",
    "2. $F$ is right continuous, i.e., $\\lim_{y\\downarrow x}F(y)=F(x)$."
   ]
  },
  {
   "cell_type": "markdown",
   "metadata": {},
   "source": [
    "<span style=\"color:#7a0200;font-weight:bolder;\">Theorem 1.1.4</span> Associated with each Stieltjes measure function $F$ there is a unique measure $\\mu$ on $(\\mathbb{R},\\mathcal{R})$ with \n",
    "\n",
    "$$\\mu(\\left(a,b\\right])=F(b)-F(a)$$\n",
    "\n",
    "&emsp;&emsp;&emsp;&emsp;<span style=\"border-bottom:1px solid #7a0200\">Proof.</span>\n",
    "\n",
    "Let $\\mathcal{S}$ be a semialgebra and let $\\mu$ defined on $\\mathcal{S}$ have $\\mu(\\emptyset)\\ne0$. Suppose (i) if $S\\in\\mathcal{S}$ is a finite disjoint uinion of sets $S_i\\in\\mathcal{S}$, then $\\mu(S)=\\sum_i\\mu(S_i)$, and (ii) if $S_i,S\\in\\mathcal{S}$ with $S=+_{i\\ge1}S_{i}$ then $\\mu(S)\\le\\sum_i\\mu(S_i)$. Then $\\mu$ has a unique extension $\\bar{\\mu}$ that is a measure on $\\bar{\\mathcal{S}}$ the algebra generated by $\\mathcal{S}$. If the extension is $\\sigma$-finite, then there is a unique extension $v$ that is a measure on $\\sigma(\\mathcal{S})$.\n",
    "\n",
    "&emsp;&emsp;&emsp;&emsp;<span style=\"border-bottom:1px solid #7a0200\">Proof.</span>\n",
    "\n",
    "Lemma 1.1.7 shows that $\\bar{\\mathcal{S}}$ is the collection of finite disjoint unions of sets in $S$. We define $\\bar{\\mu}$ on $\\bar{\\mathcal{S}}$ by $\\bar{\\mu}(A)=\\sum_i\\mu(S_i)$ whenever $A=+_iS_i$. To chekc that $\\bar{\\mu}$ is well defined, suppose that $A=+_jT_j$ and observe $S_i=+_j(S_i\\cap T_j)$ and $T_j=+_i(S_i\\cap T_j)$, so (i) implies \n",
    "\n",
    "$$\\sum_i\\mu(S_i)=\\sum_{i,j}\\mu(S_i\\cap T_j)=\\sum_j\\mu(T_j)$$\n"
   ]
  },
  {
   "cell_type": "markdown",
   "metadata": {},
   "source": [
    "<span style=\"color:#003d7a;font-weight:bolder;\">Semi-algebra:</span> A collection $\\mathcal{S}$ of sets is said to be a semialgebra if\n",
    "\n",
    "1. it is closed under intersection\n",
    "2. if $S\\in\\mathcal{S}$, then $S^C$ is a finite disjoint union of sets in $\\mathcal{S}$"
   ]
  },
  {
   "cell_type": "markdown",
   "metadata": {},
   "source": [
    "<span style=\"color:#277a00;font-weight:bolder;\">Example 1.1.5:</span> $\\mathcal{S}_d=$ the empty set plus all sets of the form\n",
    "\n",
    "$$\\left(a_1,b_1\\right]\\times\\ldots\\times\\left(a_d,b_d\\right]\\subset\\mathbb{R}^d\\quad\\text{where}\\ -\\infty\\le a_i<b_i\\le\\infty$$"
   ]
  },
  {
   "cell_type": "markdown",
   "metadata": {},
   "source": [
    "<span style=\"color:#003d7a;font-weight:bolder;\">Algebra:</span> A collection $\\mathcal{A}$ of subsets of $\\Omega$ that satisfies if $A,B\\in\\mathcal{A}$ implies $A^C,A\\cup B\\in\\mathcal{A}$. Since $A\\cap B=(A^C\\cup B^C)$, it follows that $A\\cap B\\in\\mathcal{A}$."
   ]
  },
  {
   "cell_type": "markdown",
   "metadata": {},
   "source": [
    "<span style=\"color:#277a00;font-weight:bolder;\">Example 1.1.5:</span>"
   ]
  }
 ],
 "metadata": {
  "kernelspec": {
   "display_name": "chris-env",
   "language": "python",
   "name": "python3"
  },
  "language_info": {
   "codemirror_mode": {
    "name": "ipython",
    "version": 3
   },
   "file_extension": ".py",
   "mimetype": "text/x-python",
   "name": "python",
   "nbconvert_exporter": "python",
   "pygments_lexer": "ipython3",
   "version": "3.13.1"
  }
 },
 "nbformat": 4,
 "nbformat_minor": 2
}
